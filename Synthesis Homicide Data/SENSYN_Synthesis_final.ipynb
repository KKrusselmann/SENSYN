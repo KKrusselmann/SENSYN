{
 "cells": [
  {
   "cell_type": "markdown",
   "id": "eeae4102",
   "metadata": {},
   "source": [
    "# DATA SYNTHESIS DHM"
   ]
  },
  {
   "cell_type": "markdown",
   "id": "830ff759",
   "metadata": {},
   "source": [
    "This Jupyter Notebook details the step-by-step process of synthesizing a dataset of Dutch Homicides using the Synthetic Data Vault."
   ]
  },
  {
   "cell_type": "code",
   "execution_count": null,
   "id": "337c80a9",
   "metadata": {},
   "outputs": [],
   "source": [
    "import os\n",
    "import pandas as pd\n",
    "import seaborn as sns\n",
    "import numpy as np\n",
    "import sdv\n",
    "import graphviz\n",
    "import glob\n",
    "import os\n",
    "import matplotlib.pyplot as plt"
   ]
  },
  {
   "cell_type": "markdown",
   "id": "35ee34b8",
   "metadata": {},
   "source": [
    "## 1. Upload Data"
   ]
  },
  {
   "cell_type": "code",
   "execution_count": null,
   "id": "859ca90c",
   "metadata": {},
   "outputs": [],
   "source": [
    "# Original dataset added in csv form - retracted for privacy reasons"
   ]
  },
  {
   "cell_type": "markdown",
   "id": "d23093f0",
   "metadata": {},
   "source": [
    "## 2. Inspect Data\n"
   ]
  },
  {
   "cell_type": "code",
   "execution_count": null,
   "id": "0d396b6f",
   "metadata": {
    "scrolled": true
   },
   "outputs": [],
   "source": [
    "case.head(3)"
   ]
  },
  {
   "cell_type": "markdown",
   "id": "11184a25",
   "metadata": {},
   "source": [
    "## 3. Clean Data"
   ]
  },
  {
   "cell_type": "markdown",
   "id": "031cb4f0",
   "metadata": {},
   "source": [
    "Takes data and preprocess it to correct input format for synthetic data generating model.\n",
    "\n",
    "Includes:\n",
    "\n",
    "- splitting individuals to victims and perpetrators\n",
    "- selecting necessary columns \n",
    "- setting missing values\n",
    "- setting correct data types\n",
    "- encoding categories to correct (higher-order) categories\n",
    "- ?"
   ]
  },
  {
   "cell_type": "code",
   "execution_count": null,
   "id": "a1dd4610",
   "metadata": {},
   "outputs": [],
   "source": [
    "    #mapping nrvic to categories\n",
    "    conditions = [\n",
    "        (case['NRVIC'] == 1),\n",
    "        (case['NRVIC'] >= 2),\n",
    "        (np.isnan(case['NRVIC']))\n",
    "    ]\n",
    "    categories = ['Single', 'Multiple',np.nan]\n",
    "    case['NRVIC_cat']=np.select(conditions, categories)"
   ]
  },
  {
   "cell_type": "code",
   "execution_count": null,
   "id": "252d4ed9",
   "metadata": {},
   "outputs": [],
   "source": [
    "def preprocess_case(case,req_cols,missing_values,recoding):\n",
    "    \"\"\"\n",
    "    Performs required preprocessing on the case table.\n",
    "    \n",
    "    case: table of cases\n",
    "    req_cols_victims: list of columns to keep in the case table\n",
    "    missing_values: list of potential missing values\n",
    "    recoding: dictionary denoting recoding of categories for different columns\n",
    "    returns: preprocessed case table\n",
    "    \"\"\"\n",
    "\n",
    "    #recode categoricals\n",
    "    for column,mapping in recoding.items():\n",
    "        case[column] = case[column].map(mapping)\n",
    "    \n",
    "    #set missing values as NaN\n",
    "    case = case.replace(missing_values,np.nan)\n",
    "    \n",
    "    #mapping ages to categories\n",
    "    case['AGE_vic'] = case['AGE_vic'].astype(float)\n",
    "    age_categories = {'<=6':(0,6),'7to17':(7,17),'18to24':(18,24),'25to39':(25,39),'40to64':(40,64),'>=65':(65,99), 'Missing':(150,999)}\n",
    "    mapping = {age:category for age in case['AGE_vic'] for category,(lower,upper) in age_categories.items() \\\n",
    "        if lower<=age<=upper}\n",
    "    case['AGE_vic'] = case['AGE_vic'].map(mapping)\n",
    "    \n",
    "    case['AGE_perp'] = case['AGE_perp'].astype(float)\n",
    "    age_categories = {'<=6':(0,6),'7to17':(7,17),'18to24':(18,24),'25to39':(25,39),'40to64':(40,64),'>=65':(65,150)}\n",
    "    mapping = {age:category for age in case['AGE_perp'] for category,(lower,upper) in age_categories.items() \\\n",
    "        if lower<=age<=upper}\n",
    "    case['AGE_perp'] = case['AGE_perp'].map(mapping)\n",
    "    \n",
    "    #selecting necessary columns\n",
    "    case = case[req_cols]\n",
    "    \n",
    "    #set correct data types\n",
    "    case = case.replace(np.nan,'Missing')\n",
    "    case = case.astype(str)\n",
    "    \n",
    "    return case\n",
    "        \n",
    "    "
   ]
  },
  {
   "cell_type": "code",
   "execution_count": null,
   "id": "2533bd15",
   "metadata": {},
   "outputs": [],
   "source": [
    "req_cols=['CITY','TIME','NRVIC_cat','NRPERP','CRIMESCENE','MODUS','TYPEHOM','RELAT','PROCESS','TYPE',\\\n",
    "         'PRINCIPAL','GENDER_vic','GENDER_perp','AGE_vic','AGE_perp','BIRTHCOUNTRY_vic','BIRTHCOUNTRY_perp']\n",
    "missing_values = [' ','Unknown', \"unknown\", 999, -999, '999', '-999','Unknown Perpetrator', 'Perpetrator Unknown',\\\n",
    "                  'Perpetrator unknown', \"Unknown, but under 15 years\",\"Unknown, but over 15 years\"]\n",
    "numerical_columns = []\n",
    "recoding = {\n",
    "    'CRIMESCENE':\n",
    "            {'Private home of the victim': 'Private home',\n",
    "             'Private home of the perpetrator': 'Private home',\n",
    "             'Private home of the victim and perpetrator': 'Private home',\n",
    "             'Private home, resident unknown':'Private home',\n",
    "             'Private home of other person (not vict. or perp.)': 'Private home',\n",
    "             'Shop, restaurant or other place of entertainment and amusement': 'Shop, restaurant or other place of entertainment and amusement', \n",
    "             'Other': 'Other',\n",
    "             'Institution, Dormitory': 'Other',\n",
    "             'Hotel or model': 'Other',\n",
    "             'Workplace': 'Other',\n",
    "             'Street, road, public transportation or other public place': 'Street, road, public transportation or other public place',\n",
    "             'Inside private vehicle': 'Other',\n",
    "             'Park, forest or recreational area':'Park, forest or recreational area'\n",
    "            },\n",
    "            \n",
    "            'RELAT':{\n",
    "            'The perpetrator and victim are slightly known to each other (not friends)':'The perpetrator and victim are slightly known to each other (not friends)',\n",
    "            'Perpetrator and victim do not know each other':'Perpetrator and victim do not know each other',\n",
    "            'Wife':'Partner',\n",
    "            'Girlfriend':'Partner',\n",
    "            'Friend or longtime acquaintance':'Friend or longtime acquaintance',\n",
    "            'Child':'(Step)Child',\n",
    "            'Ex-girlfriend':'Ex-Partner(Wife, Husband, Girlfriend, Boyfriend)',\n",
    "            'Mother':'(Step)Parent',\n",
    "            'Housemate or flatmate (previous or present)':'Other',\n",
    "            'Other relative':'Other relative',\n",
    "            'Neighbour':'Other',\n",
    "            'Husband':'Partner',\n",
    "            'Sibling':'Other relative',\n",
    "            'Ex-wife':'Ex-Partner(Wife, Husband, Girlfriend, Boyfriend)',\n",
    "            'Boyfriend':'Partner',\n",
    "            'Father':'(Step)Parent',\n",
    "            'Co-worker (previous or present)':'Other',\n",
    "            'New acquitance (met in the last 24 hours)':'The perpetrator and victim are slightly known to each other (not friends)',\n",
    "            'Ex-boyfriend':'Ex-Partner(Wife, Husband, Girlfriend, Boyfriend)',\n",
    "            'Stepchild':'(Step)Child',\n",
    "            'Stepfather':'(Step)Parent',\n",
    "            'Patient (previous or present)':'Other',\n",
    "            'Prostitute (previous or present)':'Other',\n",
    "            'Grandparent or great grandparent':'Other relative',\n",
    "            'Purchaser of sexual services (previous or present)':'Other',\n",
    "            'Classmate (previous or present)':'Other',\n",
    "            'Partner or ex-partner (marital or engagement status unknown)':'Other relative',\n",
    "            'Partner or ex-partner of the same sex; males (marital or engagement status unknown)':'Other relative',\n",
    "            'Mistaken identity':'Other',\n",
    "            'Ex-husband':'Ex-Partner(Wife, Husband, Girlfriend, Boyfriend)',\n",
    "            'Therapist (previous or present)':'Other'\n",
    "            },\n",
    "            \n",
    "            'TYPEHOM':{\n",
    "            'Criminal milieu':'Criminal milieu',\n",
    "            'Partner killing':'Partner killing',\n",
    "            'Other in non-criminal milieu':'Other in non-criminal milieu',\n",
    "            'Other familial killing':'Other familial killing',\n",
    "            'Robbery killing: private home':'Robbery killing',\n",
    "            'Robbery killing: street robbery':'Robbery killing',\n",
    "            'Robbery killing: commercial business':'Robbery killing',\n",
    "            'Killing by mentally disturbed person (non-family)':'Killing by mentally disturbed person (non-family)',\n",
    "            'Other':'Other',\n",
    "            'Child killing (in family)':'Child killing (family and non-family)',\n",
    "            'Nightlife violence':'Nightlife violence',\n",
    "            'Infanticide':'Child killing (family and non-family)',\n",
    "            'Sexual':'Other',\n",
    "            'Killing by children (non-family)':'Child killing (family and non-family)',\n",
    "            'Child killing by adult (non-family)':'Child killing (family and non-family)'\n",
    "            },\n",
    "            \n",
    "           'MODUS':\n",
    "            {\n",
    "            'Firearm':'Firearm',\n",
    "            'Knife or sharp object/weapon':'Knife or other sharp object/weapon',\n",
    "            'Hanging/Strangulation/Suffocation':'Hanging/Strangulation/Suffocation',\n",
    "            'Hitting, kicking or other similar physical violence without weapon,':'Hitting, kicking or other similar physical violence without weapon,',\n",
    "            'Blunt object':'Blunt object',\n",
    "            'Motor vehicle':'Motor vehicle',\n",
    "            'Smoke or fire':'Smoke or fire',\n",
    "            'Poisoning':'Other',\n",
    "            'Other':'Other',\n",
    "            'Push or shove':'Hitting, kicking or other similar physical violence without weapon,',\n",
    "            'Axe':'Knife or other sharp object/weapon',\n",
    "            'Drowning':'Other',\n",
    "            'Bomb or explosive':'Other',\n",
    "            'Exposure to corrosive or hot substances':'Other'\n",
    "            },\n",
    "    \n",
    "            'PROCESS':\n",
    "            {\n",
    "            'Homicide remains unsolved':'Unsolved',\n",
    "            'Suspect is identified but not arrested':'Solved',\n",
    "            'Suspect has been arrested': 'Solved',\n",
    "            'Suspect has been prosecuted':'Solved',\n",
    "            'Suspect has been sentenced':'Solved',\n",
    "            'Suspect has been sanctioned':'Solved',\n",
    "            'Suspect is deceased':'Solved'\n",
    "            },\n",
    "           'NRPERP':\n",
    "    {'1':'Single',\n",
    "    '2':'Multiple',\n",
    "     '3':'Multiple',\n",
    "    '4':'Multiple',\n",
    "     '5':'Multiple',\n",
    "     '6':'Multiple',\n",
    "     '7':'Multiple',\n",
    "     '8':'Multiple',\n",
    "     '9':'Multiple',\n",
    "     '10':'Multiple',\n",
    "     '11':'Multiple',\n",
    "     '12':'Multiple',\n",
    "     '13':'Multiple',\n",
    "     '14':'Multiple',\n",
    "     '15':'Multiple',\n",
    "     '16':'Multiple',\n",
    "     '17':'Multiple',\n",
    "     '18':'Multiple',\n",
    "     '19':'Multiple',\n",
    "     '20':'Multiple'\n",
    "     'Missing':'Missing'\n",
    "    }\n",
    "# recoding of Dutch cities into urban/rural based on CBS categorization, retracted for privacy reasons\n",
    "# recoding of birthcountries of victims and perpetrators into Netherlands, other European, other non-European - retracted for privacy reasons\n",
    "}\n",
    "case = preprocess_case(case=case,req_cols=req_cols,missing_values=missing_values,recoding=recoding)"
   ]
  },
  {
   "cell_type": "markdown",
   "id": "71440819",
   "metadata": {},
   "source": [
    "## 6. Create Meta-Data for Real Data"
   ]
  },
  {
   "cell_type": "markdown",
   "id": "fa46715c",
   "metadata": {},
   "source": [
    "### 6.1 Meta-Data for public version"
   ]
  },
  {
   "cell_type": "code",
   "execution_count": null,
   "id": "6b25c29f",
   "metadata": {},
   "outputs": [],
   "source": [
    "from sdv.metadata import SingleTableMetadata\n",
    "\n",
    "metadata = SingleTableMetadata()\n",
    "metadata.detect_from_dataframe(case)\n",
    "metadata.visualize(\n",
    "    show_table_details='summarized',\n",
    "    output_filepath='my_metadata.png'\n",
    ")\n"
   ]
  },
  {
   "cell_type": "code",
   "execution_count": null,
   "id": "dc862485",
   "metadata": {},
   "outputs": [],
   "source": [
    "### Correcting meta-data\n",
    "\n",
    "\n",
    "metadata.update_columns(\n",
    "    column_names=['CITY'],\n",
    "    sdtype='categorical')"
   ]
  },
  {
   "cell_type": "code",
   "execution_count": null,
   "id": "d74586fb",
   "metadata": {
    "scrolled": false
   },
   "outputs": [],
   "source": [
    "print('Corrected meta data:\\n')\n",
    "metadata.visualize()"
   ]
  },
  {
   "cell_type": "code",
   "execution_count": null,
   "id": "ba974076",
   "metadata": {},
   "outputs": [],
   "source": [
    "metadata.save_to_json('s_metadata.json')"
   ]
  },
  {
   "cell_type": "markdown",
   "id": "004fa18c",
   "metadata": {},
   "source": [
    "## 7. Synthesis"
   ]
  },
  {
   "cell_type": "markdown",
   "id": "8c838c92",
   "metadata": {},
   "source": [
    "### 7.1 Synthesis for public version"
   ]
  },
  {
   "cell_type": "code",
   "execution_count": null,
   "id": "23adcbaf",
   "metadata": {
    "scrolled": true
   },
   "outputs": [],
   "source": [
    "from sdv.single_table import GaussianCopulaSynthesizer\n",
    "\n",
    "synthesizer = GaussianCopulaSynthesizer(metadata,\n",
    "                            locales=['nl_NL'])\n",
    "\n",
    "\n",
    "# all the following code will be added in the existing synthetic data generating script/notebook\n",
    "\n",
    "# relevant column names for the constraint\n",
    "# note that ordering matters; age should be first and type second, else we have to modify the constraint file\n",
    "constraint_cols = [\"AGE_vic\",\"TYPEHOM\"]\n",
    "\n",
    "# filepath of the constraint file\n",
    "constraint_filepath = \"constraints_age.py\"\n",
    "\n",
    "synthesizer.load_custom_constraint_classes(\n",
    "    filepath=constraint_filepath, class_names=[\"kindermoordConstraintClass\"]\n",
    ")\n",
    "\n",
    "# apply the constraint to the table\n",
    "kindermoordConstraint = {\n",
    "    \"constraint_class\": \"kindermoordConstraintClass\",\n",
    "    \"constraint_parameters\": {\n",
    "        \"column_names\": constraint_cols,\n",
    "        # 'extra parameter' below simply stores what the relevant categories are for inside the constraint\n",
    "        # this way we dont have to hardcode categories inside the constraints file\n",
    "        \"extra_parameter\": {\"cat1\": [\"<=6\",'7to17','Missing'], \"cat2\": [\"Child killing (family and non-family)\"]},\n",
    "    },\n",
    "}\n",
    "\n",
    "constraint_iph_cols = [\"RELAT\",\"TYPEHOM\"]\n",
    "\n",
    "# filepath of the constraint file\n",
    "constraint_filepath = \"constraints_iph.py\"\n",
    "\n",
    "synthesizer.load_custom_constraint_classes(\n",
    "    filepath=constraint_filepath, class_names=[\"IPHConstraintClass\"]\n",
    ")\n",
    "\n",
    "# apply the constraint to the table\n",
    "IPHConstraint = {\n",
    "    \"constraint_class\": \"IPHConstraintClass\",\n",
    "    \"constraint_parameters\": {\n",
    "        \"column_names\": constraint_iph_cols,\n",
    "        # 'extra parameter' below simply stores what the relevant categories are for inside the constraint\n",
    "        # this way we dont have to hardcode categories inside the constraints file\n",
    "        \"extra_parameter\": {\"cat1\": ['Partner','Ex-Partner(Wife, Husband, Girlfriend, Boyfriend)'], \"cat2\": ['Partner Killing']},\n",
    "    },\n",
    "}\n",
    "synthesizer.add_constraints([IPHConstraint, kindermoordConstraint])\n",
    "\n",
    "# after this we can fit the synthetic data model and sample synthetic data, according to applied constraints.\n",
    "\n",
    "\n",
    "synthesizer.fit(case)\n",
    "synthetic = synthesizer.sample(num_rows=1364)"
   ]
  },
  {
   "cell_type": "markdown",
   "id": "b6f6dd91",
   "metadata": {},
   "source": [
    "## 8. Inspect Synthetic Data"
   ]
  },
  {
   "cell_type": "markdown",
   "id": "b66e5dfe",
   "metadata": {},
   "source": [
    "### 8.1 Synthetic Data for public use"
   ]
  },
  {
   "cell_type": "code",
   "execution_count": null,
   "id": "419ec0c5",
   "metadata": {},
   "outputs": [],
   "source": [
    "synthetic.head(5)"
   ]
  },
  {
   "cell_type": "markdown",
   "id": "0619fd4e",
   "metadata": {},
   "source": [
    "## 9. Evaluation of Utility of Synthetic Data"
   ]
  },
  {
   "cell_type": "markdown",
   "id": "f41465b0",
   "metadata": {},
   "source": [
    "### 9.1 Utility of synthetic data for public use"
   ]
  },
  {
   "cell_type": "code",
   "execution_count": null,
   "id": "8a20dc06",
   "metadata": {},
   "outputs": [],
   "source": [
    "from sdv.evaluation.single_table import run_diagnostic, evaluate_quality\n",
    "from sdv.evaluation.single_table import get_column_plot\n",
    "\n",
    "# 1. perform basic validity checks\n",
    "diagnostic = run_diagnostic(case, synthetic, metadata)\n",
    "\n",
    "# 2. measure the statistical similarity\n",
    "quality_report = evaluate_quality(case, synthetic, metadata)\n",
    "\n"
   ]
  },
  {
   "cell_type": "code",
   "execution_count": null,
   "id": "8be8d313",
   "metadata": {},
   "outputs": [],
   "source": [
    "quality_report.get_details(property_name='Column Shapes')"
   ]
  },
  {
   "cell_type": "markdown",
   "id": "65a4ff46",
   "metadata": {},
   "source": [
    "#### 9.1.1 Univariate comparisons"
   ]
  },
  {
   "cell_type": "code",
   "execution_count": null,
   "id": "6be3c139",
   "metadata": {},
   "outputs": [],
   "source": [
    "# 3. plot the data\n",
    "fig = get_column_plot(\n",
    "    real_data=case,\n",
    "    synthetic_data=synthetic,\n",
    "    metadata=metadata,\n",
    "    column_name='NRVIC_cat'\n",
    ")\n",
    "    \n",
    "fig.show()\n",
    "\n",
    "# This analysis has been repeated for all variables"
   ]
  },
  {
   "cell_type": "markdown",
   "id": "06e37613",
   "metadata": {},
   "source": [
    "## 10. Evaluation of Privacy"
   ]
  },
  {
   "cell_type": "markdown",
   "id": "798559a6",
   "metadata": {},
   "source": [
    "### 10.1 Privacy of synthetic data for public use"
   ]
  },
  {
   "cell_type": "code",
   "execution_count": null,
   "id": "96279ea2",
   "metadata": {
    "scrolled": true
   },
   "outputs": [],
   "source": [
    "from sdmetrics.single_table import CategoricalKNN,CategoricalRF\n",
    "#filter UserWarnings which have no impact on output\n",
    "import warnings\n",
    "warnings.filterwarnings(\"ignore\", category=UserWarning)\n",
    "\n",
    "CategoricalKNN.compute(\n",
    "    real_data=case,\n",
    "    synthetic_data=synthetic,\n",
    "    key_fields=['GENDER_vic','CRIMESCENE'],\n",
    "    sensitive_fields=['RELAT']\n",
    ")\n",
    "\n",
    "# this metric has been repeated for all variable combinations"
   ]
  },
  {
   "cell_type": "markdown",
   "id": "a6079d1c",
   "metadata": {},
   "source": [
    "## 11. Export synthetic data"
   ]
  },
  {
   "cell_type": "code",
   "execution_count": null,
   "id": "783e3b98",
   "metadata": {},
   "outputs": [],
   "source": [
    "# synthetic data exported in csv form - retracted for privacy"
   ]
  }
 ],
 "metadata": {
  "kernelspec": {
   "display_name": "Python 3 (ipykernel)",
   "language": "python",
   "name": "python3"
  },
  "language_info": {
   "codemirror_mode": {
    "name": "ipython",
    "version": 3
   },
   "file_extension": ".py",
   "mimetype": "text/x-python",
   "name": "python",
   "nbconvert_exporter": "python",
   "pygments_lexer": "ipython3",
   "version": "3.11.5"
  }
 },
 "nbformat": 4,
 "nbformat_minor": 5
}
